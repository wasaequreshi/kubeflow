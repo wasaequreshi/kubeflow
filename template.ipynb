{
 "cells": [
  {
   "cell_type": "markdown",
   "metadata": {
    "id": "DjUA6S30k52h"
   },
   "source": [
    "##### Copyright 2020 The TensorFlow Authors."
   ]
  },
  {
   "cell_type": "code",
   "execution_count": 46,
   "metadata": {
    "id": "SpNWyqewk8fE"
   },
   "outputs": [],
   "source": [
    "#@title Licensed under the Apache License, Version 2.0 (the \"License\");\n",
    "# you may not use this file except in compliance with the License.\n",
    "# You may obtain a copy of the License at\n",
    "#\n",
    "# https://www.apache.org/licenses/LICENSE-2.0\n",
    "#\n",
    "# Unless required by applicable law or agreed to in writing, software\n",
    "# distributed under the License is distributed on an \"AS IS\" BASIS,\n",
    "# WITHOUT WARRANTIES OR CONDITIONS OF ANY KIND, either express or implied.\n",
    "# See the License for the specific language governing permissions and\n",
    "# limitations under the License."
   ]
  },
  {
   "cell_type": "markdown",
   "metadata": {
    "id": "6TyrY7lV0oke"
   },
   "source": [
    "# Create a TFX pipeline using templates"
   ]
  },
  {
   "cell_type": "markdown",
   "metadata": {
    "id": "wD2KOXlZuAOj"
   },
   "source": [
    "Note: We recommend running this tutorial on Google Cloud AI Platform Notebook. [Launch this notebook on AI Platform Notebook](https://console.cloud.google.com/mlengine/notebooks/deploy-notebook?q=download_url%3Dhttps%253A%252F%252Fraw.githubusercontent.com%252Ftensorflow%252Ftfx%252Fmaster%252Fdocs%252Ftutorials%252Ftfx%252Ftemplate.ipynb).\n",
    "\n",
    "\n",
    "<div class=\"devsite-table-wrapper\"><table class=\"tfo-notebook-buttons\" align=\"left\">\n",
    "<td><a target=\"_blank\" href=\"https://www.tensorflow.org/tfx/tutorials/tfx/template\">\n",
    "<img src=\"https://www.tensorflow.org/images/tf_logo_32px.png\"/>View on TensorFlow.org</a></td>\n",
    "<td><a target=\"_blank\" href=\"https://colab.research.google.com/github/tensorflow/tfx/blob/master/docs/tutorials/tfx/template.ipynb\">\n",
    "<img src=\"https://www.tensorflow.org/images/colab_logo_32px.png\">Run in Google Colab</a></td>\n",
    "<td><a target=\"_blank\" href=\"https://github.com/tensorflow/tfx/tree/master/docs/tutorials/tfx/template.ipynb\">\n",
    "<img width=32px src=\"https://www.tensorflow.org/images/GitHub-Mark-32px.png\">View source on GitHub</a></td>\n",
    "<td><a href=\"https://storage.googleapis.com/tensorflow_docs/tfx/docs/tutorials/tfx/template.ipynb\"><img src=\"https://www.tensorflow.org/images/download_logo_32px.png\" />Download notebook</a></td>\n",
    "</table></div>"
   ]
  },
  {
   "cell_type": "markdown",
   "metadata": {
    "id": "iLYriYe10okf"
   },
   "source": [
    "## Introduction\n",
    "\n",
    "This document will provide instructions to create a TensorFlow Extended (TFX) pipeline\n",
    "using *templates* which are provided with TFX Python package.\n",
    "Many of the instructions are Linux shell commands, which will run on an AI Platform Notebooks instance. Corresponding Jupyter Notebook code cells which invoke those commands using `!` are provided.\n",
    "\n",
    "You will build a pipeline using [Taxi Trips dataset](\n",
    "https://data.cityofchicago.org/Transportation/Taxi-Trips/wrvz-psew)\n",
    "released by the City of Chicago. We strongly encourage you to try building\n",
    "your own pipeline using your dataset by utilizing this pipeline as a baseline.\n"
   ]
  },
  {
   "cell_type": "markdown",
   "metadata": {
    "id": "jxPMeugQ0okg"
   },
   "source": [
    "## Step 1. Set up your environment.\n",
    "\n",
    "AI Platform Pipelines will prepare a development environment to build a pipeline, and a Kubeflow Pipeline cluster to run the newly built pipeline.\n",
    "\n",
    "**NOTE:** To select a particular TensorFlow version, or select a GPU instance, create a TensorFlow pre-installed instance in AI Platform Notebooks.\n",
    "\n",
    "**NOTE:** There might be some errors during package installation. For example: \n",
    "\n",
    ">\"ERROR: some-package 0.some_version.1 has requirement other-package!=2.0.,&lt;3,&gt;=1.15, but you'll have other-package 2.0.0 which is incompatible.\" Please ignore these errors at this moment.\n"
   ]
  },
  {
   "cell_type": "markdown",
   "metadata": {
    "id": "-am1yWXt0okh"
   },
   "source": [
    "Install `tfx`, `kfp`, and `skaffold`, and add installation path to the `PATH` environment variable."
   ]
  },
  {
   "cell_type": "code",
   "execution_count": 77,
   "metadata": {
    "id": "XNiqq_kN0okj"
   },
   "outputs": [
    {
     "name": "stdout",
     "output_type": "stream",
     "text": [
      "  % Total    % Received % Xferd  Average Speed   Time    Time     Time  Current\n",
      "                                 Dload  Upload   Total   Spent    Left  Speed\n",
      "100 52.3M  100 52.3M    0     0  78.8M      0 --:--:-- --:--:-- --:--:-- 78.8M\n"
     ]
    }
   ],
   "source": [
    "# Install tfx and kfp Python packages.\n",
    "import sys\n",
    "!{sys.executable} -m pip install --user --upgrade -q tfx==0.26.0\n",
    "!{sys.executable} -m pip install --user --upgrade -q kfp==1.0.0\n",
    "# Download skaffold and set it executable.\n",
    "!curl -Lo skaffold https://storage.googleapis.com/skaffold/releases/latest/skaffold-linux-amd64 && chmod +x skaffold && mv skaffold /home/jupyter/.local/bin/"
   ]
  },
  {
   "cell_type": "code",
   "execution_count": 78,
   "metadata": {
    "id": "43ncix2Q0okm"
   },
   "outputs": [
    {
     "name": "stdout",
     "output_type": "stream",
     "text": [
      "env: PATH=/usr/local/cuda/bin:/opt/conda/bin:/opt/conda/condabin:/usr/local/bin:/usr/bin:/bin:/usr/local/games:/usr/games:/home/jupyter/.local/bin:/home/jupyter/.local/bin:/home/jupyter/.local/bin:/home/jupyter/.local/bin\n"
     ]
    }
   ],
   "source": [
    "# Set `PATH` to include user python binary directory and a directory containing `skaffold`.\n",
    "PATH=%env PATH\n",
    "%env PATH={PATH}:/home/jupyter/.local/bin"
   ]
  },
  {
   "cell_type": "markdown",
   "metadata": {
    "id": "hX1rqpbQ0okp"
   },
   "source": [
    "Let's check the versions of TFX."
   ]
  },
  {
   "cell_type": "code",
   "execution_count": 79,
   "metadata": {
    "id": "XAIoKMNG0okq"
   },
   "outputs": [
    {
     "name": "stdout",
     "output_type": "stream",
     "text": [
      "TFX version: 0.26.3\n"
     ]
    }
   ],
   "source": [
    "!python3 -c \"from tfx import version ; print('TFX version: {}'.format(version.__version__))\""
   ]
  },
  {
   "cell_type": "markdown",
   "metadata": {
    "id": "_7JLpaXT0okv"
   },
   "source": [
    "In AI Platform Pipelines, TFX is running in a hosted Kubernetes environment using [Kubeflow Pipelines](https://www.kubeflow.org/docs/pipelines/overview/pipelines-overview/).\n",
    "\n",
    "Let's set some environment variables to use Kubeflow Pipelines.\n",
    "\n",
    "First, get your GCP project ID."
   ]
  },
  {
   "cell_type": "code",
   "execution_count": 80,
   "metadata": {
    "id": "Hw3nsooU0okv"
   },
   "outputs": [
    {
     "name": "stdout",
     "output_type": "stream",
     "text": [
      "env: GOOGLE_CLOUD_PROJECT=cancer-classify\n",
      "GCP project ID:cancer-classify\n"
     ]
    }
   ],
   "source": [
    "# Read GCP project id from env.\n",
    "shell_output=!gcloud config list --format 'value(core.project)' 2>/dev/null\n",
    "GOOGLE_CLOUD_PROJECT=shell_output[0]\n",
    "%env GOOGLE_CLOUD_PROJECT={GOOGLE_CLOUD_PROJECT}\n",
    "print(\"GCP project ID:\" + GOOGLE_CLOUD_PROJECT)"
   ]
  },
  {
   "cell_type": "markdown",
   "metadata": {
    "id": "A_6r4uzE0oky"
   },
   "source": [
    "We also need to access your KFP cluster. You can access it in your Google Cloud Console under \"AI Platform > Pipeline\" menu. The \"endpoint\" of the KFP cluster can be found from the URL of the Pipelines dashboard, or you can get it from the URL of the Getting Started page where you launched this notebook. Let's create an `ENDPOINT` environment variable and set it to the KFP cluster endpoint. **ENDPOINT should contain only the hostname part of the URL.** For example, if the URL of the KFP dashboard is `https://1e9deb537390ca22-dot-asia-east1.pipelines.googleusercontent.com/#/start`, ENDPOINT value becomes `1e9deb537390ca22-dot-asia-east1.pipelines.googleusercontent.com`.\n",
    "\n",
    ">**NOTE: You MUST set your ENDPOINT value below.**"
   ]
  },
  {
   "cell_type": "code",
   "execution_count": 83,
   "metadata": {
    "id": "AzqEQORV0oky"
   },
   "outputs": [],
   "source": [
    "# This refers to the KFP cluster endpoint\n",
    "ENDPOINT='67bcd4004deb9782-dot-us-central1.pipelines.googleusercontent.com' # Enter your ENDPOINT here.\n",
    "if not ENDPOINT:\n",
    "    from absl import logging\n",
    "    logging.error('Set your ENDPOINT in this cell.')"
   ]
  },
  {
   "cell_type": "markdown",
   "metadata": {
    "id": "K6T-KXeA0ok3"
   },
   "source": [
    "Set the image name as `tfx-pipeline` under the current GCP project."
   ]
  },
  {
   "cell_type": "code",
   "execution_count": 84,
   "metadata": {
    "id": "3ztxXOVD0ok4"
   },
   "outputs": [],
   "source": [
    "# Docker image name for the pipeline image.\n",
    "CUSTOM_TFX_IMAGE='gcr.io/' + GOOGLE_CLOUD_PROJECT + '/tfx-pipeline'"
   ]
  },
  {
   "cell_type": "markdown",
   "metadata": {
    "id": "TOsQbkky0ok7"
   },
   "source": [
    "And, it's done. We are ready to create a pipeline."
   ]
  },
  {
   "cell_type": "markdown",
   "metadata": {
    "id": "Cxlbi1QM0ok8"
   },
   "source": [
    "## Step 2. Copy the predefined template to your project directory.\n",
    "\n",
    "In this step, we will create a working pipeline project directory and files by copying additional files from a predefined template.\n",
    "\n",
    "You may give your pipeline a different name by changing the `PIPELINE_NAME` below. This will also become the name of the project directory where your files will be put."
   ]
  },
  {
   "cell_type": "code",
   "execution_count": 53,
   "metadata": {
    "id": "cIPlt-700ok-"
   },
   "outputs": [],
   "source": [
    "PIPELINE_NAME=\"cancer_cls_pipeline\"\n",
    "import os\n",
    "PROJECT_DIR=os.path.join(os.path.expanduser(\"~\"),\"deployed_notebook\",PIPELINE_NAME)"
   ]
  },
  {
   "cell_type": "markdown",
   "metadata": {
    "id": "ozHIomcd0olB"
   },
   "source": [
    "TFX includes the `taxi` template with the TFX python package. If you are planning to solve a point-wise prediction problem, including classification and regresssion, this template could be used as a starting point.\n",
    "\n",
    "The `tfx template copy` CLI command copies predefined template files into your project directory."
   ]
  },
  {
   "cell_type": "code",
   "execution_count": 54,
   "metadata": {
    "id": "VLXpTTjU0olD"
   },
   "outputs": [
    {
     "name": "stdout",
     "output_type": "stream",
     "text": [
      "CLI\n",
      "Copying taxi pipeline template\n",
      "pipeline.py -> /home/jupyter/deployed_notebook/cancer_cls_pipeline/pipeline/pipeline.py\n",
      "__init__.py -> /home/jupyter/deployed_notebook/cancer_cls_pipeline/pipeline/__init__.py\n",
      "configs.py -> /home/jupyter/deployed_notebook/cancer_cls_pipeline/pipeline/configs.py\n",
      "local_runner.py -> /home/jupyter/deployed_notebook/cancer_cls_pipeline/local_runner.py\n",
      "__init__.py -> /home/jupyter/deployed_notebook/cancer_cls_pipeline/__init__.py\n",
      "model_analysis.ipynb -> /home/jupyter/deployed_notebook/cancer_cls_pipeline/model_analysis.ipynb\n",
      "kubeflow_v2_dag_runner.py -> /home/jupyter/deployed_notebook/cancer_cls_pipeline/kubeflow_v2_dag_runner.py\n",
      "kubeflow_runner.py -> /home/jupyter/deployed_notebook/cancer_cls_pipeline/kubeflow_runner.py\n",
      "data_validation.ipynb -> /home/jupyter/deployed_notebook/cancer_cls_pipeline/data_validation.ipynb\n",
      "preprocessing_test.py -> /home/jupyter/deployed_notebook/cancer_cls_pipeline/models/preprocessing_test.py\n",
      "__init__.py -> /home/jupyter/deployed_notebook/cancer_cls_pipeline/models/__init__.py\n",
      "features_test.py -> /home/jupyter/deployed_notebook/cancer_cls_pipeline/models/features_test.py\n",
      "constants.py -> /home/jupyter/deployed_notebook/cancer_cls_pipeline/models/keras/constants.py\n",
      "__init__.py -> /home/jupyter/deployed_notebook/cancer_cls_pipeline/models/keras/__init__.py\n",
      "model.py -> /home/jupyter/deployed_notebook/cancer_cls_pipeline/models/keras/model.py\n",
      "model_test.py -> /home/jupyter/deployed_notebook/cancer_cls_pipeline/models/keras/model_test.py\n",
      "features.py -> /home/jupyter/deployed_notebook/cancer_cls_pipeline/models/features.py\n",
      "constants.py -> /home/jupyter/deployed_notebook/cancer_cls_pipeline/models/estimator/constants.py\n",
      "__init__.py -> /home/jupyter/deployed_notebook/cancer_cls_pipeline/models/estimator/__init__.py\n",
      "model.py -> /home/jupyter/deployed_notebook/cancer_cls_pipeline/models/estimator/model.py\n",
      "model_test.py -> /home/jupyter/deployed_notebook/cancer_cls_pipeline/models/estimator/model_test.py\n",
      "preprocessing.py -> /home/jupyter/deployed_notebook/cancer_cls_pipeline/models/preprocessing.py\n",
      ".gitignore -> /home/jupyter/deployed_notebook/cancer_cls_pipeline/.gitignore\n"
     ]
    }
   ],
   "source": [
    "# !tfx template copy \\\n",
    "#   --pipeline-name={PIPELINE_NAME} \\\n",
    "#   --destination-path={PROJECT_DIR} \\\n",
    "#   --model=taxi"
   ]
  },
  {
   "cell_type": "markdown",
   "metadata": {
    "id": "yxOT19QS0olH"
   },
   "source": [
    "Change the working directory context in this notebook to the project directory."
   ]
  },
  {
   "cell_type": "code",
   "execution_count": 55,
   "metadata": {
    "id": "6P-HljcU0olI"
   },
   "outputs": [
    {
     "name": "stdout",
     "output_type": "stream",
     "text": [
      "/home/jupyter/deployed_notebook/cancer_cls_pipeline\n"
     ]
    }
   ],
   "source": [
    "%cd {PROJECT_DIR}"
   ]
  },
  {
   "cell_type": "markdown",
   "metadata": {
    "id": "1tEYUQxH0olO"
   },
   "source": [
    ">NOTE: Don't forget to change directory in `File Browser` on the left by clicking into the project directory once it is created."
   ]
  },
  {
   "cell_type": "markdown",
   "metadata": {
    "id": "IzT2PFrN0olQ"
   },
   "source": [
    "## Step 3. Browse your copied source files\n",
    "\n",
    "The TFX template provides basic scaffold files to build a pipeline, including Python source code, sample data, and Jupyter Notebooks to analyse the output of the pipeline. The `taxi` template uses the same *Chicago Taxi* dataset and ML model as the [Airflow Tutorial](https://www.tensorflow.org/tfx/tutorials/tfx/airflow_workshop).\n",
    "\n",
    "Here is brief introduction to each of the Python files.\n",
    "-   `pipeline` - This directory contains the definition of the pipeline\n",
    "    -   `configs.py` — defines common constants for pipeline runners\n",
    "    -   `pipeline.py` — defines TFX components and a pipeline\n",
    "-   `models` - This directory contains ML model definitions.\n",
    "    -   `features.py`, `features_test.py` — defines features for the model\n",
    "    -   `preprocessing.py`, `preprocessing_test.py` — defines preprocessing\n",
    "        jobs using `tf::Transform`\n",
    "    -   `estimator` - This directory contains an Estimator based model.\n",
    "        -   `constants.py` — defines constants of the model\n",
    "        -   `model.py`, `model_test.py` — defines DNN model using TF estimator\n",
    "    -   `keras` - This directory contains a Keras based model.\n",
    "        -   `constants.py` — defines constants of the model\n",
    "        -   `model.py`, `model_test.py` — defines DNN model using Keras\n",
    "-   `local_runner.py`, `kubeflow_runner.py` — define runners for each orchestration engine\n"
   ]
  },
  {
   "cell_type": "markdown",
   "metadata": {
    "id": "ROwHAsDK0olT"
   },
   "source": [
    "You might notice that there are some files with `_test.py` in their name. These are unit tests of the pipeline and it is recommended to add more unit tests as you implement your own pipelines.\n",
    "You can run unit tests by supplying the module name of test files with `-m` flag. You can usually get a module name by deleting `.py` extension and replacing `/` with `.`.  For example:"
   ]
  },
  {
   "cell_type": "code",
   "execution_count": 56,
   "metadata": {
    "id": "M0cMdE2Z0olU"
   },
   "outputs": [
    {
     "name": "stdout",
     "output_type": "stream",
     "text": [
      "Running tests under Python 3.7.10: /opt/conda/bin/python\n",
      "[ RUN      ] FeaturesTest.testNumberOfBucketFeatureBucketCount\n",
      "INFO:tensorflow:time(__main__.FeaturesTest.testNumberOfBucketFeatureBucketCount): 0.0s\n",
      "I0504 19:55:25.985714 140508585314112 test_util.py:1973] time(__main__.FeaturesTest.testNumberOfBucketFeatureBucketCount): 0.0s\n",
      "[       OK ] FeaturesTest.testNumberOfBucketFeatureBucketCount\n",
      "[ RUN      ] FeaturesTest.testTransformedNames\n",
      "INFO:tensorflow:time(__main__.FeaturesTest.testTransformedNames): 0.0s\n",
      "I0504 19:55:25.986199 140508585314112 test_util.py:1973] time(__main__.FeaturesTest.testTransformedNames): 0.0s\n",
      "[       OK ] FeaturesTest.testTransformedNames\n",
      "[ RUN      ] FeaturesTest.test_session\n",
      "[  SKIPPED ] FeaturesTest.test_session\n",
      "----------------------------------------------------------------------\n",
      "Ran 3 tests in 0.001s\n",
      "\n",
      "OK (skipped=1)\n",
      "Running tests under Python 3.7.10: /opt/conda/bin/python\n",
      "[ RUN      ] ModelTest.testBuildKerasModel\n",
      "2021-05-04 19:55:29.252680: I tensorflow/core/platform/profile_utils/cpu_utils.cc:104] CPU Frequency: 2200150000 Hz\n",
      "2021-05-04 19:55:29.252916: I tensorflow/compiler/xla/service/service.cc:168] XLA service 0x55dc24b5ef10 initialized for platform Host (this does not guarantee that XLA will be used). Devices:\n",
      "2021-05-04 19:55:29.252949: I tensorflow/compiler/xla/service/service.cc:176]   StreamExecutor device (0): Host, Default Version\n",
      "2021-05-04 19:55:29.253116: I tensorflow/core/common_runtime/process_util.cc:146] Creating new thread pool with default inter op setting: 2. Tune using inter_op_parallelism_threads for best performance.\n",
      "I0504 19:55:29.340341 139853947254592 layer_utils.py:192] Model: \"functional_1\"\n",
      "I0504 19:55:29.340567 139853947254592 layer_utils.py:193] __________________________________________________________________________________________________\n",
      "I0504 19:55:29.340672 139853947254592 layer_utils.py:190] Layer (type)                    Output Shape         Param #     Connected to                     \n",
      "I0504 19:55:29.340747 139853947254592 layer_utils.py:195] ==================================================================================================\n",
      "I0504 19:55:29.341009 139853947254592 layer_utils.py:190] pickup_latitude_xf (InputLayer) [(None,)]            0                                            \n",
      "I0504 19:55:29.341120 139853947254592 layer_utils.py:259] __________________________________________________________________________________________________\n",
      "I0504 19:55:29.341307 139853947254592 layer_utils.py:190] trip_miles_xf (InputLayer)      [(None,)]            0                                            \n",
      "I0504 19:55:29.341405 139853947254592 layer_utils.py:259] __________________________________________________________________________________________________\n",
      "I0504 19:55:29.341578 139853947254592 layer_utils.py:190] trip_start_hour_xf (InputLayer) [(None,)]            0                                            \n",
      "I0504 19:55:29.341668 139853947254592 layer_utils.py:259] __________________________________________________________________________________________________\n",
      "I0504 19:55:29.341945 139853947254592 layer_utils.py:190] dense_features (DenseFeatures)  (None, 1)            0           pickup_latitude_xf[0][0]         \n",
      "I0504 19:55:29.342046 139853947254592 layer_utils.py:190]                                                                  trip_miles_xf[0][0]              \n",
      "I0504 19:55:29.342145 139853947254592 layer_utils.py:190]                                                                  trip_start_hour_xf[0][0]         \n",
      "I0504 19:55:29.342217 139853947254592 layer_utils.py:259] __________________________________________________________________________________________________\n",
      "I0504 19:55:29.342527 139853947254592 layer_utils.py:190] dense (Dense)                   (None, 1)            2           dense_features[0][0]             \n",
      "I0504 19:55:29.342638 139853947254592 layer_utils.py:259] __________________________________________________________________________________________________\n",
      "I0504 19:55:29.342885 139853947254592 layer_utils.py:190] dense_1 (Dense)                 (None, 1)            2           dense[0][0]                      \n",
      "I0504 19:55:29.342985 139853947254592 layer_utils.py:259] __________________________________________________________________________________________________\n",
      "I0504 19:55:29.343246 139853947254592 layer_utils.py:190] dense_features_1 (DenseFeatures (None, 34)           0           pickup_latitude_xf[0][0]         \n",
      "I0504 19:55:29.343363 139853947254592 layer_utils.py:190]                                                                  trip_miles_xf[0][0]              \n",
      "I0504 19:55:29.343451 139853947254592 layer_utils.py:190]                                                                  trip_start_hour_xf[0][0]         \n",
      "I0504 19:55:29.343523 139853947254592 layer_utils.py:259] __________________________________________________________________________________________________\n",
      "I0504 19:55:29.343709 139853947254592 layer_utils.py:190] concatenate (Concatenate)       (None, 35)           0           dense_1[0][0]                    \n",
      "I0504 19:55:29.343813 139853947254592 layer_utils.py:190]                                                                  dense_features_1[0][0]           \n",
      "I0504 19:55:29.343889 139853947254592 layer_utils.py:259] __________________________________________________________________________________________________\n",
      "I0504 19:55:29.344140 139853947254592 layer_utils.py:190] dense_2 (Dense)                 (None, 1)            36          concatenate[0][0]                \n",
      "I0504 19:55:29.344242 139853947254592 layer_utils.py:259] __________________________________________________________________________________________________\n",
      "I0504 19:55:29.344488 139853947254592 layer_utils.py:190] tf_op_layer_Squeeze (TensorFlow [(None,)]            0           dense_2[0][0]                    \n",
      "I0504 19:55:29.344586 139853947254592 layer_utils.py:257] ==================================================================================================\n",
      "I0504 19:55:29.345142 139853947254592 layer_utils.py:268] Total params: 40\n",
      "I0504 19:55:29.345244 139853947254592 layer_utils.py:269] Trainable params: 40\n",
      "I0504 19:55:29.345329 139853947254592 layer_utils.py:270] Non-trainable params: 0\n",
      "I0504 19:55:29.345391 139853947254592 layer_utils.py:271] __________________________________________________________________________________________________\n",
      "I0504 19:55:29.433238 139853947254592 layer_utils.py:192] Model: \"functional_3\"\n",
      "I0504 19:55:29.433422 139853947254592 layer_utils.py:193] __________________________________________________________________________________________________\n",
      "I0504 19:55:29.433532 139853947254592 layer_utils.py:190] Layer (type)                    Output Shape         Param #     Connected to                     \n",
      "I0504 19:55:29.433597 139853947254592 layer_utils.py:195] ==================================================================================================\n",
      "I0504 19:55:29.433852 139853947254592 layer_utils.py:190] pickup_latitude_xf (InputLayer) [(None,)]            0                                            \n",
      "I0504 19:55:29.433967 139853947254592 layer_utils.py:259] __________________________________________________________________________________________________\n",
      "I0504 19:55:29.434169 139853947254592 layer_utils.py:190] trip_miles_xf (InputLayer)      [(None,)]            0                                            \n",
      "I0504 19:55:29.434267 139853947254592 layer_utils.py:259] __________________________________________________________________________________________________\n",
      "I0504 19:55:29.434453 139853947254592 layer_utils.py:190] trip_start_hour_xf (InputLayer) [(None,)]            0                                            \n",
      "I0504 19:55:29.434544 139853947254592 layer_utils.py:259] __________________________________________________________________________________________________\n",
      "I0504 19:55:29.434788 139853947254592 layer_utils.py:190] dense_features_2 (DenseFeatures (None, 1)            0           pickup_latitude_xf[0][0]         \n",
      "I0504 19:55:29.434898 139853947254592 layer_utils.py:190]                                                                  trip_miles_xf[0][0]              \n",
      "I0504 19:55:29.434986 139853947254592 layer_utils.py:190]                                                                  trip_start_hour_xf[0][0]         \n",
      "I0504 19:55:29.435055 139853947254592 layer_utils.py:259] __________________________________________________________________________________________________\n",
      "I0504 19:55:29.435347 139853947254592 layer_utils.py:190] dense_3 (Dense)                 (None, 1)            2           dense_features_2[0][0]           \n",
      "I0504 19:55:29.435446 139853947254592 layer_utils.py:259] __________________________________________________________________________________________________\n",
      "I0504 19:55:29.435713 139853947254592 layer_utils.py:190] dense_features_3 (DenseFeatures (None, 34)           0           pickup_latitude_xf[0][0]         \n",
      "I0504 19:55:29.435827 139853947254592 layer_utils.py:190]                                                                  trip_miles_xf[0][0]              \n",
      "I0504 19:55:29.435916 139853947254592 layer_utils.py:190]                                                                  trip_start_hour_xf[0][0]         \n",
      "I0504 19:55:29.435990 139853947254592 layer_utils.py:259] __________________________________________________________________________________________________\n",
      "I0504 19:55:29.436158 139853947254592 layer_utils.py:190] concatenate_1 (Concatenate)     (None, 35)           0           dense_3[0][0]                    \n",
      "I0504 19:55:29.436251 139853947254592 layer_utils.py:190]                                                                  dense_features_3[0][0]           \n",
      "I0504 19:55:29.436330 139853947254592 layer_utils.py:259] __________________________________________________________________________________________________\n",
      "I0504 19:55:29.436575 139853947254592 layer_utils.py:190] dense_4 (Dense)                 (None, 1)            36          concatenate_1[0][0]              \n",
      "I0504 19:55:29.436663 139853947254592 layer_utils.py:259] __________________________________________________________________________________________________\n",
      "I0504 19:55:29.436902 139853947254592 layer_utils.py:190] tf_op_layer_Squeeze_1 (TensorFl [(None,)]            0           dense_4[0][0]                    \n",
      "I0504 19:55:29.436999 139853947254592 layer_utils.py:257] ==================================================================================================\n",
      "I0504 19:55:29.437491 139853947254592 layer_utils.py:268] Total params: 38\n",
      "I0504 19:55:29.437588 139853947254592 layer_utils.py:269] Trainable params: 38\n",
      "I0504 19:55:29.437672 139853947254592 layer_utils.py:270] Non-trainable params: 0\n",
      "I0504 19:55:29.437734 139853947254592 layer_utils.py:271] __________________________________________________________________________________________________\n",
      "INFO:tensorflow:time(__main__.ModelTest.testBuildKerasModel): 0.21s\n",
      "I0504 19:55:29.438395 139853947254592 test_util.py:1973] time(__main__.ModelTest.testBuildKerasModel): 0.21s\n",
      "[       OK ] ModelTest.testBuildKerasModel\n",
      "[ RUN      ] ModelTest.test_session\n",
      "[  SKIPPED ] ModelTest.test_session\n",
      "----------------------------------------------------------------------\n",
      "Ran 2 tests in 0.216s\n",
      "\n",
      "OK (skipped=1)\n"
     ]
    }
   ],
   "source": [
    "!{sys.executable} -m models.features_test\n",
    "!{sys.executable} -m models.keras.model_test\n"
   ]
  },
  {
   "cell_type": "markdown",
   "metadata": {
    "id": "tO9Jhplo0olX"
   },
   "source": [
    "## Step 4. Run your first TFX pipeline\n",
    "\n",
    "Components in the TFX pipeline will generate outputs for each run as [ML Metadata Artifacts](https://www.tensorflow.org/tfx/guide/mlmd), and they need to be stored somewhere. You can use any storage which the KFP cluster can access, and for this example we will use Google Cloud Storage (GCS). A default GCS bucket should have been created automatically. Its name will be `<your-project-id>-kubeflowpipelines-default`.\n"
   ]
  },
  {
   "cell_type": "markdown",
   "metadata": {
    "id": "Zr-RjyPWTHdH"
   },
   "source": [
    "Let's upload our sample data to GCS bucket so that we can use it in our pipeline later."
   ]
  },
  {
   "cell_type": "code",
   "execution_count": 62,
   "metadata": {
    "id": "gW-dSHW-TSdc"
   },
   "outputs": [
    {
     "name": "stdout",
     "output_type": "stream",
     "text": [
      "Copying file://data/test.tfrecords [Content-Type=application/octet-stream]...\n",
      "Copying file://data/train.tfrecords [Content-Type=application/octet-stream]...  \n",
      "| [2 files][192.6 MiB/192.6 MiB]                                                \n",
      "Operation completed over 2 objects/192.6 MiB.                                    \n"
     ]
    }
   ],
   "source": [
    "!gsutil cp data/* gs://{GOOGLE_CLOUD_PROJECT}-kubeflowpipelines-default/tfx-template/data/cancer_cls/"
   ]
  },
  {
   "cell_type": "markdown",
   "metadata": {
    "id": "wc54hDZu0ole"
   },
   "source": [
    "Let's create a TFX pipeline using the `tfx pipeline create` command.\n",
    "\n",
    ">Note: When creating a pipeline for KFP, we need a container image which will be used to run our pipeline. And `skaffold` will build the image for us. Because skaffold pulls base images from the docker hub, it will take 5~10 minutes when we build the image for the first time, but it will take much less time from the second build."
   ]
  },
  {
   "cell_type": "code",
   "execution_count": 86,
   "metadata": {
    "id": "kOU7zQof0olf"
   },
   "outputs": [
    {
     "name": "stdout",
     "output_type": "stream",
     "text": [
      "CLI\n",
      "Creating pipeline\n",
      "Detected Kubeflow.\n",
      "Use --engine flag if you intend to use a different orchestrator.\n",
      "Reading build spec from build.yaml\n",
      "Target image gcr.io/cancer-classify/tfx-pipeline is not used. If the build spec is provided, update the target image in the build spec file build.yaml.\n",
      "[Skaffold] Generating tags...\n",
      "[Skaffold]  - gcr.io/cancer-classify/tfx-pipeline -> gcr.io/cancer-classify/tfx-pipeline:latest\n",
      "[Skaffold] Checking cache...\n",
      "[Skaffold]  - gcr.io/cancer-classify/tfx-pipeline: Not found. Building\n",
      "[Skaffold] Starting build...\n",
      "[Skaffold] Building [gcr.io/cancer-classify/tfx-pipeline]...\n",
      "[Skaffold] Sending build context to Docker daemon  404.2MB\n",
      "[Skaffold] Step 1/5 : FROM tensorflow/tfx:0.26.3\n",
      "[Skaffold]  ---> fdc47606f263\n",
      "[Skaffold] Step 2/5 : WORKDIR /pipeline\n",
      "[Skaffold]  ---> Using cache\n",
      "[Skaffold]  ---> 85344a5eb7ee\n",
      "[Skaffold] Step 3/5 : COPY ./ ./\n",
      "[Skaffold]  ---> 483eee08d36a\n",
      "[Skaffold] Step 4/5 : RUN pip install keras\n",
      "[Skaffold]  ---> Running in c54499db18d9\n",
      "[Skaffold] Collecting keras\n",
      "[Skaffold]   Downloading Keras-2.4.3-py2.py3-none-any.whl (36 kB)\n",
      "[Skaffold] Requirement already satisfied: numpy>=1.9.1 in /usr/local/lib/python3.7/dist-packages (from keras) (1.19.5)\n",
      "[Skaffold] Requirement already satisfied: h5py in /usr/local/lib/python3.7/dist-packages (from keras) (2.10.0)\n",
      "[Skaffold] Requirement already satisfied: scipy>=0.14 in /usr/local/lib/python3.7/dist-packages (from keras) (1.6.1)\n",
      "[Skaffold] Requirement already satisfied: pyyaml in /usr/local/lib/python3.7/dist-packages (from keras) (3.13)\n",
      "[Skaffold] Requirement already satisfied: six in /usr/local/lib/python3.7/dist-packages (from h5py->keras) (1.15.0)\n",
      "[Skaffold] Installing collected packages: keras\n",
      "[Skaffold] Successfully installed keras-2.4.3\n",
      "[Skaffold] \u001b[91mWARNING: You are using pip version 20.2; however, version 21.1.1 is available.\n",
      "[Skaffold] You should consider upgrading via the '/usr/bin/python3 -m pip install --upgrade pip' command.\n",
      "[Skaffold] \u001b[0mRemoving intermediate container c54499db18d9\n",
      "[Skaffold]  ---> 8812455dfd47\n",
      "[Skaffold] Step 5/5 : ENV PYTHONPATH=\"/pipeline:${PYTHONPATH}\"\n",
      "[Skaffold]  ---> Running in 74fdcddc2b1f\n",
      "[Skaffold] Removing intermediate container 74fdcddc2b1f\n",
      "[Skaffold]  ---> c7c27c6dd11b\n",
      "[Skaffold] Successfully built c7c27c6dd11b\n",
      "[Skaffold] Successfully tagged gcr.io/cancer-classify/tfx-pipeline:latest\n",
      "[Skaffold] The push refers to repository [gcr.io/cancer-classify/tfx-pipeline]\n",
      "[Skaffold] 3aab563dc039: Preparing\n",
      "[Skaffold] cfafa11a5d97: Preparing\n",
      "[Skaffold] c4c62f5113f1: Preparing\n",
      "[Skaffold] 16ff61e706a2: Preparing\n",
      "[Skaffold] 3c4fbf463204: Preparing\n",
      "[Skaffold] 8a505753fbdf: Preparing\n",
      "[Skaffold] 30ed15d19d7b: Preparing\n",
      "[Skaffold] 4b867b920cc6: Preparing\n",
      "[Skaffold] 4058ae03fa32: Preparing\n",
      "[Skaffold] e3437c61d457: Preparing\n",
      "[Skaffold] 84ff92691f90: Preparing\n",
      "[Skaffold] 54b00d861a7a: Preparing\n",
      "[Skaffold] c547358928ab: Preparing\n",
      "[Skaffold] 84ff92691f90: Preparing\n",
      "[Skaffold] c4e66be694ce: Preparing\n",
      "[Skaffold] 47cc65c6dd57: Preparing\n",
      "[Skaffold] e3437c61d457: Waiting\n",
      "[Skaffold] 8a505753fbdf: Waiting\n",
      "[Skaffold] 30ed15d19d7b: Waiting\n",
      "[Skaffold] 4b867b920cc6: Waiting\n",
      "[Skaffold] 84ff92691f90: Waiting\n",
      "[Skaffold] 54b00d861a7a: Waiting\n",
      "[Skaffold] 4058ae03fa32: Waiting\n",
      "[Skaffold] c547358928ab: Waiting\n",
      "[Skaffold] c4e66be694ce: Waiting\n",
      "[Skaffold] 16ff61e706a2: Layer already exists\n",
      "[Skaffold] c4c62f5113f1: Layer already exists\n",
      "[Skaffold] 3c4fbf463204: Layer already exists\n",
      "[Skaffold] 4b867b920cc6: Layer already exists\n",
      "[Skaffold] 8a505753fbdf: Layer already exists\n",
      "[Skaffold] 30ed15d19d7b: Layer already exists\n",
      "[Skaffold] e3437c61d457: Layer already exists\n",
      "[Skaffold] 4058ae03fa32: Layer already exists\n",
      "[Skaffold] 84ff92691f90: Layer already exists\n",
      "[Skaffold] 54b00d861a7a: Layer already exists\n",
      "[Skaffold] c547358928ab: Layer already exists\n",
      "[Skaffold] c4e66be694ce: Layer already exists\n",
      "[Skaffold] 47cc65c6dd57: Layer already exists\n",
      "[Skaffold] 3aab563dc039: Pushed\n",
      "[Skaffold] cfafa11a5d97: Pushed\n",
      "[Skaffold] latest: digest: sha256:3037c05cbc02b3c0f51fa4c05916bb12f9a17bc18a936d8d2ec5fa3460679745 size: 3692\n",
      "New container image is built. Target image is available in the build spec file.\n",
      "WARNING:absl:RuntimeParameter is only supported on Cloud-based DAG runner currently.\n",
      "WARNING:absl:From /home/jupyter/deployed_notebook/cancer_cls_pipeline/pipeline/pipeline.py:78: external_input (from tfx.utils.dsl_utils) is deprecated and will be removed in a future version.\n",
      "Instructions for updating:\n",
      "external_input is deprecated, directly pass the uri to ExampleGen.\n",
      "WARNING:absl:The \"input\" argument to the ImportExampleGen component has been deprecated by \"input_base\". Please update your usage as support for this argument will be removed soon.\n",
      "INFO:absl:Excluding no splits because exclude_splits is not set.\n",
      "INFO:absl:Excluding no splits because exclude_splits is not set.\n",
      "INFO:absl:Excluding no splits because exclude_splits is not set.\n",
      "WARNING:absl:`instance_name` is deprecated, please set the node id directly using `with_id()` or the `.id` setter.\n",
      "INFO:absl:Adding upstream dependencies for component ImportExampleGen\n",
      "INFO:absl:Adding upstream dependencies for component ResolverNode_latest_blessed_model_resolver\n",
      "INFO:absl:Adding upstream dependencies for component StatisticsGen\n",
      "INFO:absl:   ->  Component: ImportExampleGen\n",
      "INFO:absl:Adding upstream dependencies for component SchemaGen\n",
      "INFO:absl:   ->  Component: StatisticsGen\n",
      "INFO:absl:Adding upstream dependencies for component ExampleValidator\n",
      "INFO:absl:   ->  Component: SchemaGen\n",
      "INFO:absl:   ->  Component: StatisticsGen\n",
      "INFO:absl:Adding upstream dependencies for component Transform\n",
      "INFO:absl:   ->  Component: SchemaGen\n",
      "INFO:absl:   ->  Component: ImportExampleGen\n",
      "INFO:absl:Adding upstream dependencies for component Trainer\n",
      "INFO:absl:   ->  Component: SchemaGen\n",
      "INFO:absl:   ->  Component: Transform\n",
      "INFO:absl:Adding upstream dependencies for component Evaluator\n",
      "INFO:absl:   ->  Component: Transform\n",
      "INFO:absl:   ->  Component: ResolverNode_latest_blessed_model_resolver\n",
      "INFO:absl:   ->  Component: Trainer\n",
      "INFO:absl:Adding upstream dependencies for component Pusher\n",
      "INFO:absl:   ->  Component: Evaluator\n",
      "INFO:absl:   ->  Component: Trainer\n",
      "\u001b[0mPipeline compiled successfully.\n",
      "Pipeline package path: /home/jupyter/deployed_notebook/cancer_cls_pipeline/cancer_cls_pipeline.tar.gz\n",
      "Pipeline \"cancer_cls_pipeline\" already exists.\n"
     ]
    }
   ],
   "source": [
    "!tfx pipeline create  \\\n",
    "--pipeline-path=kubeflow_runner.py \\\n",
    "--endpoint={ENDPOINT} \\\n",
    "--build-target-image={CUSTOM_TFX_IMAGE}"
   ]
  },
  {
   "cell_type": "markdown",
   "metadata": {
    "id": "QmA6___Y0olh"
   },
   "source": [
    "While creating a pipeline, `Dockerfile` and `build.yaml` will be generated to build a Docker image. Don't forget to add these files to the source control system (for example, git) along with other source files.\n",
    "\n",
    "A pipeline definition file for [argo](https://argoproj.github.io/argo/) will be generated, too. The name of this file is `${PIPELINE_NAME}.tar.gz`. For example, it will be `my_pipeline.tar.gz` if the name of your pipeline is `my_pipeline`. It is recommended NOT to include this pipeline definition file into source control, because it will be generated from other Python files and will be updated whenever you update the pipeline. For your convenience, this file is already listed in `.gitignore` which is generated automatically.\n",
    "\n",
    "NOTE: `kubeflow` will be automatically selected as an orchestration engine if `airflow` is not installed and `--engine` is not specified.\n",
    "\n",
    "Now start an execution run with the newly created pipeline using the `tfx run create` command."
   ]
  },
  {
   "cell_type": "code",
   "execution_count": 59,
   "metadata": {
    "id": "cKSjVVsa0oli"
   },
   "outputs": [
    {
     "name": "stdout",
     "output_type": "stream",
     "text": [
      "CLI\n",
      "Creating a run for pipeline: cancer_cls_pipeline\n",
      "Detected Kubeflow.\n",
      "Use --engine flag if you intend to use a different orchestrator.\n",
      "Run created for pipeline: cancer_cls_pipeline\n",
      "+---------------------+--------------------------------------+----------+---------------------------+-----------------------------------------------------------------------------------------------------------------------------+\n",
      "| pipeline_name       | run_id                               | status   | created_at                | link                                                                                                                        |\n",
      "+=====================+======================================+==========+===========================+=============================================================================================================================+\n",
      "| cancer_cls_pipeline | 6aa516af-5f16-4dfb-aaab-68c657441bfa |          | 2021-05-04T19:56:26+00:00 | http://67bcd4004deb9782-dot-us-central1.pipelines.googleusercontent.com/#/runs/details/6aa516af-5f16-4dfb-aaab-68c657441bfa |\n",
      "+---------------------+--------------------------------------+----------+---------------------------+-----------------------------------------------------------------------------------------------------------------------------+\n"
     ]
    }
   ],
   "source": [
    "!tfx run create --pipeline-name={PIPELINE_NAME} --endpoint={ENDPOINT}"
   ]
  },
  {
   "cell_type": "markdown",
   "metadata": {
    "id": "Pg0VxvUC0olk"
   },
   "source": [
    "Or, you can also run the pipeline in the KFP Dashboard.  The new execution run will be listed under Experiments in the KFP Dashboard.  Clicking into the experiment will allow you to monitor progress and visualize the artifacts created during the execution run."
   ]
  },
  {
   "cell_type": "markdown",
   "metadata": {
    "id": "nLN4ges90oll"
   },
   "source": [
    "However, we recommend visiting the KFP Dashboard. You can access the KFP Dashboard from the Cloud AI Platform Pipelines menu in Google Cloud Console. Once you visit the dashboard, you will be able to find the pipeline, and access a wealth of information about the pipeline.\n",
    "For example, you can find your runs under the *Experiments* menu, and when you open your execution run under Experiments you can find all your artifacts from the pipeline under *Artifacts* menu.\n",
    "\n",
    ">Note: If your pipeline run fails, you can see detailed logs for each TFX component in the Experiments tab in the KFP Dashboard.\n",
    "    \n",
    "One of the major sources of failure is permission related problems. Please make sure your KFP cluster has permissions to access Google Cloud APIs. This can be configured [when you create a KFP cluster in GCP](https://cloud.google.com/ai-platform/pipelines/docs/setting-up), or see [Troubleshooting document in GCP](https://cloud.google.com/ai-platform/pipelines/docs/troubleshooting)."
   ]
  },
  {
   "cell_type": "markdown",
   "metadata": {
    "id": "bYH8Y2KB0olm"
   },
   "source": [
    "## Step 5. Add components for data validation.\n",
    "\n",
    "In this step, you will add components for data validation including `StatisticsGen`, `SchemaGen`, and `ExampleValidator`. If you are interested in data validation, please see [Get started with Tensorflow Data Validation](https://www.tensorflow.org/tfx/data_validation/get_started).\n",
    "\n",
    ">**Double-click to change directory to `pipeline` and double-click again to open `pipeline.py`**. Find and uncomment the 3 lines which add `StatisticsGen`, `SchemaGen`, and `ExampleValidator` to the pipeline. (Tip: search for comments containing `TODO(step 5):`).  Make sure to save `pipeline.py` after you edit it.\n",
    "\n",
    "You now need to update the existing pipeline with modified pipeline definition. Use the `tfx pipeline update` command to update your pipeline, followed by the `tfx run create` command to create a new execution run of your updated pipeline.\n"
   ]
  },
  {
   "cell_type": "code",
   "execution_count": 90,
   "metadata": {
    "id": "VE-Pqvto0olm"
   },
   "outputs": [
    {
     "name": "stdout",
     "output_type": "stream",
     "text": [
      "CLI\n",
      "Updating pipeline\n",
      "Detected Kubeflow.\n",
      "Use --engine flag if you intend to use a different orchestrator.\n",
      "Reading build spec from build.yaml\n",
      "[Skaffold] Generating tags...\n",
      "[Skaffold]  - gcr.io/cancer-classify/tfx-pipeline -> gcr.io/cancer-classify/tfx-pipeline:latest\n",
      "[Skaffold] Checking cache...\n",
      "[Skaffold]  - gcr.io/cancer-classify/tfx-pipeline: Not found. Building\n",
      "[Skaffold] Starting build...\n",
      "[Skaffold] Building [gcr.io/cancer-classify/tfx-pipeline]...\n",
      "[Skaffold] Sending build context to Docker daemon  404.2MB\n",
      "[Skaffold] Step 1/5 : FROM tensorflow/tfx:0.26.3\n",
      "[Skaffold]  ---> fdc47606f263\n",
      "[Skaffold] Step 2/5 : WORKDIR /pipeline\n",
      "[Skaffold]  ---> Using cache\n",
      "[Skaffold]  ---> 85344a5eb7ee\n",
      "[Skaffold] Step 3/5 : COPY ./ ./\n",
      "[Skaffold]  ---> 77fed4b29a28\n",
      "[Skaffold] Step 4/5 : RUN pip install keras\n",
      "[Skaffold]  ---> Running in 1ee9964e410b\n",
      "[Skaffold] Collecting keras\n",
      "[Skaffold]   Downloading Keras-2.4.3-py2.py3-none-any.whl (36 kB)\n",
      "[Skaffold] Requirement already satisfied: pyyaml in /usr/local/lib/python3.7/dist-packages (from keras) (3.13)\n",
      "[Skaffold] Requirement already satisfied: h5py in /usr/local/lib/python3.7/dist-packages (from keras) (2.10.0)\n",
      "[Skaffold] Requirement already satisfied: scipy>=0.14 in /usr/local/lib/python3.7/dist-packages (from keras) (1.6.1)\n",
      "[Skaffold] Requirement already satisfied: numpy>=1.9.1 in /usr/local/lib/python3.7/dist-packages (from keras) (1.19.5)\n",
      "[Skaffold] Requirement already satisfied: six in /usr/local/lib/python3.7/dist-packages (from h5py->keras) (1.15.0)\n",
      "[Skaffold] Installing collected packages: keras\n",
      "[Skaffold] Successfully installed keras-2.4.3\n",
      "[Skaffold] \u001b[91mWARNING: You are using pip version 20.2; however, version 21.1.1 is available.\n",
      "[Skaffold] You should consider upgrading via the '/usr/bin/python3 -m pip install --upgrade pip' command.\n",
      "[Skaffold] \u001b[0mRemoving intermediate container 1ee9964e410b\n",
      "[Skaffold]  ---> cbdc1e1cfebf\n",
      "[Skaffold] Step 5/5 : ENV PYTHONPATH=\"/pipeline:${PYTHONPATH}\"\n",
      "[Skaffold]  ---> Running in 1af6672a94ab\n",
      "[Skaffold] Removing intermediate container 1af6672a94ab\n",
      "[Skaffold]  ---> 2442ea555865\n",
      "[Skaffold] Successfully built 2442ea555865\n",
      "[Skaffold] Successfully tagged gcr.io/cancer-classify/tfx-pipeline:latest\n",
      "[Skaffold] The push refers to repository [gcr.io/cancer-classify/tfx-pipeline]\n",
      "[Skaffold] 6ebaa6fa8a5f: Preparing\n",
      "[Skaffold] 5afaf37bb895: Preparing\n",
      "[Skaffold] c4c62f5113f1: Preparing\n",
      "[Skaffold] 16ff61e706a2: Preparing\n",
      "[Skaffold] 3c4fbf463204: Preparing\n",
      "[Skaffold] 8a505753fbdf: Preparing\n",
      "[Skaffold] 30ed15d19d7b: Preparing\n",
      "[Skaffold] 4b867b920cc6: Preparing\n",
      "[Skaffold] 4058ae03fa32: Preparing\n",
      "[Skaffold] e3437c61d457: Preparing\n",
      "[Skaffold] 84ff92691f90: Preparing\n",
      "[Skaffold] 54b00d861a7a: Preparing\n",
      "[Skaffold] c547358928ab: Preparing\n",
      "[Skaffold] 84ff92691f90: Preparing\n",
      "[Skaffold] c4e66be694ce: Preparing\n",
      "[Skaffold] 47cc65c6dd57: Preparing\n",
      "[Skaffold] e3437c61d457: Waiting\n",
      "[Skaffold] 84ff92691f90: Waiting\n",
      "[Skaffold] 54b00d861a7a: Waiting\n",
      "[Skaffold] c547358928ab: Waiting\n",
      "[Skaffold] c4e66be694ce: Waiting\n",
      "[Skaffold] 47cc65c6dd57: Waiting\n",
      "[Skaffold] 8a505753fbdf: Waiting\n",
      "[Skaffold] 4b867b920cc6: Waiting\n",
      "[Skaffold] 4058ae03fa32: Waiting\n",
      "[Skaffold] 30ed15d19d7b: Waiting\n",
      "[Skaffold] 16ff61e706a2: Layer already exists\n",
      "[Skaffold] 3c4fbf463204: Layer already exists\n",
      "[Skaffold] c4c62f5113f1: Layer already exists\n",
      "[Skaffold] 8a505753fbdf: Layer already exists\n",
      "[Skaffold] 4b867b920cc6: Layer already exists\n",
      "[Skaffold] 30ed15d19d7b: Layer already exists\n",
      "[Skaffold] 4058ae03fa32: Layer already exists\n",
      "[Skaffold] e3437c61d457: Layer already exists\n",
      "[Skaffold] 84ff92691f90: Layer already exists\n",
      "[Skaffold] c547358928ab: Layer already exists\n",
      "[Skaffold] c4e66be694ce: Layer already exists\n",
      "[Skaffold] 54b00d861a7a: Layer already exists\n",
      "[Skaffold] 47cc65c6dd57: Layer already exists\n",
      "[Skaffold] 6ebaa6fa8a5f: Pushed\n",
      "[Skaffold] 5afaf37bb895: Pushed\n",
      "[Skaffold] latest: digest: sha256:0e7740e77ed6605cd3d3e24ef9a10757619f7bf25db35e77bcbe02c36753b5c0 size: 3692\n",
      "New container image is built. Target image is available in the build spec file.\n",
      "WARNING:absl:RuntimeParameter is only supported on Cloud-based DAG runner currently.\n",
      "WARNING:absl:From /home/jupyter/deployed_notebook/cancer_cls_pipeline/pipeline/pipeline.py:78: external_input (from tfx.utils.dsl_utils) is deprecated and will be removed in a future version.\n",
      "Instructions for updating:\n",
      "external_input is deprecated, directly pass the uri to ExampleGen.\n",
      "WARNING:absl:The \"input\" argument to the ImportExampleGen component has been deprecated by \"input_base\". Please update your usage as support for this argument will be removed soon.\n",
      "INFO:absl:Excluding no splits because exclude_splits is not set.\n",
      "INFO:absl:Excluding no splits because exclude_splits is not set.\n",
      "INFO:absl:Excluding no splits because exclude_splits is not set.\n",
      "WARNING:absl:`instance_name` is deprecated, please set the node id directly using `with_id()` or the `.id` setter.\n",
      "INFO:absl:Adding upstream dependencies for component ImportExampleGen\n",
      "INFO:absl:Adding upstream dependencies for component ResolverNode_latest_blessed_model_resolver\n",
      "INFO:absl:Adding upstream dependencies for component StatisticsGen\n",
      "INFO:absl:   ->  Component: ImportExampleGen\n",
      "INFO:absl:Adding upstream dependencies for component SchemaGen\n",
      "INFO:absl:   ->  Component: StatisticsGen\n",
      "INFO:absl:Adding upstream dependencies for component ExampleValidator\n",
      "INFO:absl:   ->  Component: SchemaGen\n",
      "INFO:absl:   ->  Component: StatisticsGen\n",
      "INFO:absl:Adding upstream dependencies for component Transform\n",
      "INFO:absl:   ->  Component: ImportExampleGen\n",
      "INFO:absl:   ->  Component: SchemaGen\n",
      "INFO:absl:Adding upstream dependencies for component Trainer\n",
      "INFO:absl:   ->  Component: Transform\n",
      "INFO:absl:   ->  Component: SchemaGen\n",
      "INFO:absl:Adding upstream dependencies for component Evaluator\n",
      "INFO:absl:   ->  Component: Transform\n",
      "INFO:absl:   ->  Component: ResolverNode_latest_blessed_model_resolver\n",
      "INFO:absl:   ->  Component: Trainer\n",
      "INFO:absl:Adding upstream dependencies for component Pusher\n",
      "INFO:absl:   ->  Component: Trainer\n",
      "INFO:absl:   ->  Component: Evaluator\n",
      "\u001b[0mPipeline compiled successfully.\n",
      "Pipeline package path: /home/jupyter/deployed_notebook/cancer_cls_pipeline/cancer_cls_pipeline.tar.gz\n",
      "{'code_source_url': None,\n",
      " 'created_at': datetime.datetime(2021, 5, 5, 4, 49, 26, tzinfo=tzlocal()),\n",
      " 'id': '6551dabb-c66d-4d52-b86b-d6adfb6dcba5',\n",
      " 'name': 'cancer_cls_pipeline_20210505044925',\n",
      " 'package_url': None,\n",
      " 'parameters': [{'name': 'pipeline-root',\n",
      "                 'value': 'gs://cancer-classify-kubeflowpipelines-default/tfx_pipeline_output/cancer_cls_pipeline'}],\n",
      " 'resource_references': [{'key': {'id': 'bfd839e1-c7f8-4490-85f7-74424ffcfadf',\n",
      "                                  'type': 'PIPELINE'},\n",
      "                          'name': None,\n",
      "                          'relationship': 'OWNER'}]}\n",
      "Please access the pipeline detail page at http://67bcd4004deb9782-dot-us-central1.pipelines.googleusercontent.com/#/pipelines/details/bfd839e1-c7f8-4490-85f7-74424ffcfadf\n",
      "Pipeline \"cancer_cls_pipeline\" updated successfully.\n",
      "CLI\n",
      "Creating a run for pipeline: cancer_cls_pipeline\n",
      "Detected Kubeflow.\n",
      "Use --engine flag if you intend to use a different orchestrator.\n",
      "Run created for pipeline: cancer_cls_pipeline\n",
      "+---------------------+--------------------------------------+----------+---------------------------+-----------------------------------------------------------------------------------------------------------------------------+\n",
      "| pipeline_name       | run_id                               | status   | created_at                | link                                                                                                                        |\n",
      "+=====================+======================================+==========+===========================+=============================================================================================================================+\n",
      "| cancer_cls_pipeline | c3b3e39c-eefa-48e0-aad9-dc6e1a1ebdfb |          | 2021-05-05T04:49:31+00:00 | http://67bcd4004deb9782-dot-us-central1.pipelines.googleusercontent.com/#/runs/details/c3b3e39c-eefa-48e0-aad9-dc6e1a1ebdfb |\n",
      "+---------------------+--------------------------------------+----------+---------------------------+-----------------------------------------------------------------------------------------------------------------------------+\n"
     ]
    }
   ],
   "source": [
    "# Update the pipeline\n",
    "!tfx pipeline update \\\n",
    "--pipeline-path=kubeflow_runner.py \\\n",
    "--endpoint={ENDPOINT}\n",
    "# You can run the pipeline the same way.\n",
    "!tfx run create --pipeline-name {PIPELINE_NAME} --endpoint={ENDPOINT}"
   ]
  },
  {
   "cell_type": "markdown",
   "metadata": {
    "id": "8q1ZYEHX0olo"
   },
   "source": [
    "### Check pipeline outputs\n",
    "\n",
    "Visit the KFP dashboard to find pipeline outputs in the page for your pipeline run. Click the *Experiments* tab on the left, and *All runs* in the Experiments page. You should be able to find the latest run under the name of your pipeline."
   ]
  },
  {
   "cell_type": "markdown",
   "metadata": {
    "id": "dWMBXU510olp"
   },
   "source": [
    "## Step 6. Add components for training.\n",
    "\n",
    "In this step, you will add components for training and model validation including `Transform`, `Trainer`, `Resolver`, `Evaluator`, and `Pusher`.\n",
    "\n",
    ">**Double-click to open `pipeline.py`**. Find and uncomment the 5 lines which add `Transform`, `Trainer`, `Resolver`, `Evaluator` and `Pusher` to the pipeline. (Tip: search for `TODO(step 6):`)\n",
    "\n",
    "As you did before, you now need to update the existing pipeline with the modified pipeline definition. The instructions are the same as Step 5. Update the pipeline using `tfx pipeline update`, and create an execution run using `tfx run create`."
   ]
  },
  {
   "cell_type": "code",
   "execution_count": 68,
   "metadata": {
    "id": "VQDNitkH0olq"
   },
   "outputs": [
    {
     "name": "stdout",
     "output_type": "stream",
     "text": [
      "CLI\n",
      "Updating pipeline\n",
      "Detected Kubeflow.\n",
      "Use --engine flag if you intend to use a different orchestrator.\n",
      "Reading build spec from build.yaml\n",
      "[Skaffold] Generating tags...\n",
      "[Skaffold]  - gcr.io/cancer-classify/tfx-pipeline -> gcr.io/cancer-classify/tfx-pipeline:latest\n",
      "[Skaffold] Checking cache...\n",
      "[Skaffold]  - gcr.io/cancer-classify/tfx-pipeline: Not found. Building\n",
      "[Skaffold] Starting build...\n",
      "[Skaffold] Building [gcr.io/cancer-classify/tfx-pipeline]...\n",
      "[Skaffold] Sending build context to Docker daemon  202.1MB\n",
      "[Skaffold] Step 1/4 : FROM tensorflow/tfx:0.26.3\n",
      "[Skaffold]  ---> fdc47606f263\n",
      "[Skaffold] Step 2/4 : WORKDIR /pipeline\n",
      "[Skaffold]  ---> Using cache\n",
      "[Skaffold]  ---> 85344a5eb7ee\n",
      "[Skaffold] Step 3/4 : COPY ./ ./\n",
      "[Skaffold]  ---> 3e97e80466d1\n",
      "[Skaffold] Step 4/4 : ENV PYTHONPATH=\"/pipeline:${PYTHONPATH}\"\n",
      "[Skaffold]  ---> Running in 72ab232f618c\n",
      "[Skaffold] Removing intermediate container 72ab232f618c\n",
      "[Skaffold]  ---> edfb1588801b\n",
      "[Skaffold] Successfully built edfb1588801b\n",
      "[Skaffold] Successfully tagged gcr.io/cancer-classify/tfx-pipeline:latest\n",
      "[Skaffold] The push refers to repository [gcr.io/cancer-classify/tfx-pipeline]\n",
      "[Skaffold] 80a997a8b854: Preparing\n",
      "[Skaffold] c4c62f5113f1: Preparing\n",
      "[Skaffold] 16ff61e706a2: Preparing\n",
      "[Skaffold] 3c4fbf463204: Preparing\n",
      "[Skaffold] 8a505753fbdf: Preparing\n",
      "[Skaffold] 30ed15d19d7b: Preparing\n",
      "[Skaffold] 4b867b920cc6: Preparing\n",
      "[Skaffold] 4058ae03fa32: Preparing\n",
      "[Skaffold] e3437c61d457: Preparing\n",
      "[Skaffold] 84ff92691f90: Preparing\n",
      "[Skaffold] 54b00d861a7a: Preparing\n",
      "[Skaffold] c547358928ab: Preparing\n",
      "[Skaffold] 84ff92691f90: Preparing\n",
      "[Skaffold] c4e66be694ce: Preparing\n",
      "[Skaffold] 47cc65c6dd57: Preparing\n",
      "[Skaffold] 30ed15d19d7b: Waiting\n",
      "[Skaffold] 4b867b920cc6: Waiting\n",
      "[Skaffold] 84ff92691f90: Waiting\n",
      "[Skaffold] 4058ae03fa32: Waiting\n",
      "[Skaffold] e3437c61d457: Waiting\n",
      "[Skaffold] c4e66be694ce: Waiting\n",
      "[Skaffold] 54b00d861a7a: Waiting\n",
      "[Skaffold] 47cc65c6dd57: Waiting\n",
      "[Skaffold] c547358928ab: Waiting\n",
      "[Skaffold] 8a505753fbdf: Layer already exists\n",
      "[Skaffold] 16ff61e706a2: Layer already exists\n",
      "[Skaffold] c4c62f5113f1: Layer already exists\n",
      "[Skaffold] 3c4fbf463204: Layer already exists\n",
      "[Skaffold] 30ed15d19d7b: Layer already exists\n",
      "[Skaffold] e3437c61d457: Layer already exists\n",
      "[Skaffold] 4058ae03fa32: Layer already exists\n",
      "[Skaffold] 4b867b920cc6: Layer already exists\n",
      "[Skaffold] 84ff92691f90: Layer already exists\n",
      "[Skaffold] 54b00d861a7a: Layer already exists\n",
      "[Skaffold] c547358928ab: Layer already exists\n",
      "[Skaffold] c4e66be694ce: Layer already exists\n",
      "[Skaffold] 47cc65c6dd57: Layer already exists\n",
      "[Skaffold] 80a997a8b854: Pushed\n",
      "[Skaffold] latest: digest: sha256:0496898bb1b3bbfb45cd53bf343a4e89ae061bdb642eba69049cc5695d70f541 size: 3483\n",
      "New container image is built. Target image is available in the build spec file.\n",
      "WARNING:absl:RuntimeParameter is only supported on Cloud-based DAG runner currently.\n",
      "WARNING:absl:From /home/jupyter/deployed_notebook/cancer_cls_pipeline/pipeline/pipeline.py:78: external_input (from tfx.utils.dsl_utils) is deprecated and will be removed in a future version.\n",
      "Instructions for updating:\n",
      "external_input is deprecated, directly pass the uri to ExampleGen.\n",
      "WARNING:absl:The \"input\" argument to the ImportExampleGen component has been deprecated by \"input_base\". Please update your usage as support for this argument will be removed soon.\n",
      "INFO:absl:Excluding no splits because exclude_splits is not set.\n",
      "INFO:absl:Excluding no splits because exclude_splits is not set.\n",
      "INFO:absl:Excluding no splits because exclude_splits is not set.\n",
      "WARNING:absl:`instance_name` is deprecated, please set the node id directly using `with_id()` or the `.id` setter.\n",
      "INFO:absl:Adding upstream dependencies for component ImportExampleGen\n",
      "INFO:absl:Adding upstream dependencies for component ResolverNode_latest_blessed_model_resolver\n",
      "INFO:absl:Adding upstream dependencies for component StatisticsGen\n",
      "INFO:absl:   ->  Component: ImportExampleGen\n",
      "INFO:absl:Adding upstream dependencies for component SchemaGen\n",
      "INFO:absl:   ->  Component: StatisticsGen\n",
      "INFO:absl:Adding upstream dependencies for component ExampleValidator\n",
      "INFO:absl:   ->  Component: StatisticsGen\n",
      "INFO:absl:   ->  Component: SchemaGen\n",
      "INFO:absl:Adding upstream dependencies for component Transform\n",
      "INFO:absl:   ->  Component: ImportExampleGen\n",
      "INFO:absl:   ->  Component: SchemaGen\n",
      "INFO:absl:Adding upstream dependencies for component Trainer\n",
      "INFO:absl:   ->  Component: SchemaGen\n",
      "INFO:absl:   ->  Component: Transform\n",
      "INFO:absl:Adding upstream dependencies for component Evaluator\n",
      "INFO:absl:   ->  Component: ResolverNode_latest_blessed_model_resolver\n",
      "INFO:absl:   ->  Component: Transform\n",
      "INFO:absl:   ->  Component: Trainer\n",
      "INFO:absl:Adding upstream dependencies for component Pusher\n",
      "INFO:absl:   ->  Component: Trainer\n",
      "INFO:absl:   ->  Component: Evaluator\n",
      "\u001b[0mPipeline compiled successfully.\n",
      "Pipeline package path: /home/jupyter/deployed_notebook/cancer_cls_pipeline/cancer_cls_pipeline.tar.gz\n",
      "{'code_source_url': None,\n",
      " 'created_at': datetime.datetime(2021, 5, 4, 20, 22, 30, tzinfo=tzlocal()),\n",
      " 'id': 'd59cc5f4-f689-4ea0-9f41-b4e35441edc7',\n",
      " 'name': 'cancer_cls_pipeline_20210504202229',\n",
      " 'package_url': None,\n",
      " 'parameters': [{'name': 'pipeline-root',\n",
      "                 'value': 'gs://cancer-classify-kubeflowpipelines-default/tfx_pipeline_output/cancer_cls_pipeline'}],\n",
      " 'resource_references': [{'key': {'id': 'bfd839e1-c7f8-4490-85f7-74424ffcfadf',\n",
      "                                  'type': 'PIPELINE'},\n",
      "                          'name': None,\n",
      "                          'relationship': 'OWNER'}]}\n",
      "Please access the pipeline detail page at http://67bcd4004deb9782-dot-us-central1.pipelines.googleusercontent.com/#/pipelines/details/bfd839e1-c7f8-4490-85f7-74424ffcfadf\n",
      "Pipeline \"cancer_cls_pipeline\" updated successfully.\n",
      "CLI\n",
      "Creating a run for pipeline: cancer_cls_pipeline\n",
      "Detected Kubeflow.\n",
      "Use --engine flag if you intend to use a different orchestrator.\n",
      "Run created for pipeline: cancer_cls_pipeline\n",
      "+---------------------+--------------------------------------+----------+---------------------------+-----------------------------------------------------------------------------------------------------------------------------+\n",
      "| pipeline_name       | run_id                               | status   | created_at                | link                                                                                                                        |\n",
      "+=====================+======================================+==========+===========================+=============================================================================================================================+\n",
      "| cancer_cls_pipeline | 184a980b-42e3-4626-8fdb-88127faedf08 |          | 2021-05-04T20:22:35+00:00 | http://67bcd4004deb9782-dot-us-central1.pipelines.googleusercontent.com/#/runs/details/184a980b-42e3-4626-8fdb-88127faedf08 |\n",
      "+---------------------+--------------------------------------+----------+---------------------------+-----------------------------------------------------------------------------------------------------------------------------+\n"
     ]
    }
   ],
   "source": [
    "!tfx pipeline update \\\n",
    "--pipeline-path=kubeflow_runner.py \\\n",
    "--endpoint={ENDPOINT}\n",
    "!tfx run create --pipeline-name {PIPELINE_NAME} --endpoint={ENDPOINT}"
   ]
  },
  {
   "cell_type": "markdown",
   "metadata": {
    "id": "ksWfVQUnMYCX"
   },
   "source": [
    "When this execution run finishes successfully, you have now created and run your first TFX pipeline in AI Platform Pipelines!\n",
    "\n",
    "**NOTE:** You might have noticed that every time we create a pipeline run, every component runs again and again even though the input and the parameters were not changed.\n",
    "It is waste of time and resources, and you can skip those executions with pipeline caching. You can enable caching by specifying `enable_cache=True` for the `Pipeline` object in `pipeline.py`.\n"
   ]
  },
  {
   "cell_type": "markdown",
   "metadata": {
    "id": "nkF7klWi0ols"
   },
   "source": [
    "## Step 7. (*Optional*) Try BigQueryExampleGen\n",
    "\n",
    "[BigQuery](https://cloud.google.com/bigquery) is a serverless, highly scalable, and cost-effective cloud data warehouse. BigQuery can be used as a source for training examples in TFX. In this step, we will add `BigQueryExampleGen` to the pipeline.\n",
    "\n",
    ">**Double-click to open `pipeline.py`**. Comment out `CsvExampleGen` and uncomment the line which creates an instance of `BigQueryExampleGen`. You also need to uncomment the `query` argument of the `create_pipeline` function.\n",
    "\n",
    "We need to specify which GCP project to use for BigQuery, and this is done by setting `--project` in `beam_pipeline_args` when creating a pipeline.\n",
    "\n",
    ">**Double-click to open `configs.py`**. Uncomment the definition of `GOOGLE_CLOUD_REGION`, `BIG_QUERY_WITH_DIRECT_RUNNER_BEAM_PIPELINE_ARGS` and `BIG_QUERY_QUERY`. You should replace the region value in this file with the correct values for your GCP project.\n",
    "\n",
    ">**Note: You MUST set your GCP region in the `configs.py` file before proceeding.**\n",
    "\n",
    ">**Change directory one level up.** Click the name of the directory above the file list. The name of the directory is the name of the pipeline which is `my_pipeline` if you didn't change.\n",
    "\n",
    ">**Double-click to open `kubeflow_runner.py`**. Uncomment two arguments, `query` and `beam_pipeline_args`, for the `create_pipeline` function.\n",
    "\n",
    "Now the pipeline is ready to use BigQuery as an example source. Update the pipeline as before and create a new execution run as we did in step 5 and 6."
   ]
  },
  {
   "cell_type": "code",
   "execution_count": null,
   "metadata": {
    "id": "1sD3NxB60olt"
   },
   "outputs": [],
   "source": [
    "!tfx pipeline update \\\n",
    "--pipeline-path=kubeflow_runner.py \\\n",
    "--endpoint={ENDPOINT}\n",
    "!tfx run create --pipeline-name {PIPELINE_NAME} --endpoint={ENDPOINT}"
   ]
  },
  {
   "cell_type": "markdown",
   "metadata": {
    "id": "LpA2R6Lu0olv"
   },
   "source": [
    "## Step 8. (*Optional*) Try Dataflow with KFP\n",
    "\n",
    "Several [TFX Components uses Apache Beam](https://www.tensorflow.org/tfx/guide/beam) to implement data-parallel pipelines, and it means that you can distribute data processing workloads using [Google Cloud Dataflow](https://cloud.google.com/dataflow/). In this step, we will set the Kubeflow orchestrator to use dataflow as the data processing back-end for Apache Beam.\n",
    "\n",
    ">**Double-click `pipeline` to change directory, and double-click to open `configs.py`**. Uncomment the definition of `GOOGLE_CLOUD_REGION`, and `DATAFLOW_BEAM_PIPELINE_ARGS`.\n",
    "\n",
    ">**Change directory one level up.** Click the name of the directory above the file list. The name of the directory is the name of the pipeline which is `my_pipeline` if you didn't change.\n",
    "\n",
    ">**Double-click to open `kubeflow_runner.py`**. Uncomment `beam_pipeline_args`. (Also make sure to comment out current `beam_pipeline_args` that you added in Step 7.)\n",
    "\n",
    "Now the pipeline is ready to use Dataflow. Update the pipeline and create an execution run as we did in step 5 and 6."
   ]
  },
  {
   "cell_type": "code",
   "execution_count": null,
   "metadata": {
    "id": "H3HVPcKi0olw"
   },
   "outputs": [],
   "source": [
    "!tfx pipeline update \\\n",
    "--pipeline-path=kubeflow_dag_runner.py \\\n",
    "--endpoint={ENDPOINT}\n",
    "!tfx run create --pipeline-name {PIPELINE_NAME} --endpoint={ENDPOINT}"
   ]
  },
  {
   "cell_type": "markdown",
   "metadata": {
    "id": "_uxDY13N0oly"
   },
   "source": [
    "You can find your Dataflow jobs in [Dataflow in Cloud Console](http://console.cloud.google.com/dataflow).\n",
    "\n",
    ">**Double-click to open `pipeline.py`**. Reset the value of `enable_cache` to `True`.\n"
   ]
  },
  {
   "cell_type": "markdown",
   "metadata": {
    "id": "kJOmh1RY0olz"
   },
   "source": [
    "## Step 9. (*Optional*) Try Cloud AI Platform Training and Prediction with KFP\n",
    "\n",
    "TFX interoperates with several managed GCP services, such as [Cloud AI Platform for Training and Prediction](https://cloud.google.com/ai-platform/). You can set your `Trainer` component to use Cloud AI Platform Training, a managed service for training ML models. Moreover, when your model is built and ready to be served, you can *push* your model to Cloud AI Platform Prediction for serving. In this step, we will set our `Trainer` and `Pusher` component to use Cloud AI Platform services.\n",
    "\n",
    ">Before editing files, you might first have to enable *AI Platform Training & Prediction API*.\n",
    "\n",
    ">**Double-click `pipeline` to change directory, and double-click to open `configs.py`**. Uncomment the definition of `GOOGLE_CLOUD_REGION`, `GCP_AI_PLATFORM_TRAINING_ARGS` and `GCP_AI_PLATFORM_SERVING_ARGS`. We will use our custom built container image to train a model in Cloud AI Platform Training, so we should set `masterConfig.imageUri` in `GCP_AI_PLATFORM_TRAINING_ARGS` to the same value as `CUSTOM_TFX_IMAGE` above.\n",
    "\n",
    ">**Change directory one level up, and double-click to open `kubeflow_dag_runner.py`**. Uncomment `ai_platform_training_args` and `ai_platform_serving_args`.\n",
    "\n",
    "Update the pipeline and create an execution run as we did in step 5 and 6."
   ]
  },
  {
   "cell_type": "code",
   "execution_count": null,
   "metadata": {
    "id": "yxOjhBmG0ol0"
   },
   "outputs": [],
   "source": [
    "!tfx pipeline update \\\n",
    "--pipeline-path=kubeflow_dag_runner.py \\\n",
    "--endpoint={ENDPOINT}\n",
    "!tfx run create --pipeline-name {PIPELINE_NAME} --endpoint={ENDPOINT}"
   ]
  },
  {
   "cell_type": "markdown",
   "metadata": {
    "id": "BkoIMUfj0ol2"
   },
   "source": [
    "You can find your training jobs in [Cloud AI Platform Jobs](https://console.cloud.google.com/ai-platform/jobs). If your pipeline completed successfully, you can find your model in [Cloud AI Platform Models](https://console.cloud.google.com/ai-platform/models)."
   ]
  },
  {
   "cell_type": "markdown",
   "metadata": {
    "id": "4DRTFdTy0ol3"
   },
   "source": [
    "## Step 10. Ingest YOUR data to the pipeline\n",
    "\n",
    "We made a pipeline for a model using the Chicago Taxi dataset. Now it's time to put your data into the pipeline.\n",
    "\n",
    "Your data can be stored anywhere your pipeline can access, including GCS, or BigQuery. You will need to modify the pipeline definition to access your data.\n",
    "\n",
    "1. If your data is stored in files, modify the `DATA_PATH` in `kubeflow_runner.py` or `local_runner.py` and set it to the location of your files. If your data is stored in BigQuery, modify `BIG_QUERY_QUERY` in `pipeline/configs.py` to correctly query for your data.\n",
    "1. Add features in `models/features.py`.\n",
    "1. Modify `models/preprocessing.py` to [transform input data for training](https://www.tensorflow.org/tfx/guide/transform).\n",
    "1. Modify `models/keras/model.py` and `models/keras/constants.py` to [describe your ML model](https://www.tensorflow.org/tfx/guide/trainer).\n",
    "  - You can use an estimator based model, too. Change `RUN_FN` constant to `models.estimator.model.run_fn` in `pipeline/configs.py`.\n",
    "\n",
    "Please see [Trainer component guide](https://www.tensorflow.org/tfx/guide/trainer) for more introduction."
   ]
  },
  {
   "cell_type": "markdown",
   "metadata": {
    "id": "20KRGsPX0ol3"
   },
   "source": [
    "## Cleaning up\n",
    "\n",
    "To clean up all Google Cloud resources used in this project, you can [delete the Google Cloud project](https://cloud.google.com/resource-manager/docs/creating-managing-projects#shutting_down_projects) you used for the tutorial.\n",
    "\n",
    "Alternatively, you can clean up individual resources by visiting each consoles:\n",
    "- [Google Cloud Storage](https://console.cloud.google.com/storage)\n",
    "- [Google Container Registry](https://console.cloud.google.com/gcr)\n",
    "- [Google Kubernetes Engine](https://console.cloud.google.com/kubernetes)\n"
   ]
  },
  {
   "cell_type": "code",
   "execution_count": 75,
   "metadata": {},
   "outputs": [
    {
     "data": {
      "text/plain": [
       "'/home/jupyter/deployed_notebook/cancer_cls_pipeline/sample.zip.zip'"
      ]
     },
     "execution_count": 75,
     "metadata": {},
     "output_type": "execute_result"
    }
   ],
   "source": [
    "from shutil import make_archive\n",
    "make_archive('sample.zip', 'zip', '../cancer_cls_pipeline')\n",
    "# from IPython.display import FileLink\n",
    "# FileLink()"
   ]
  },
  {
   "cell_type": "code",
   "execution_count": null,
   "metadata": {},
   "outputs": [],
   "source": []
  }
 ],
 "metadata": {
  "colab": {
   "collapsed_sections": [],
   "name": "template.ipynb",
   "provenance": [],
   "toc_visible": true
  },
  "environment": {
   "name": "tf2-gpu.2-3.m65",
   "type": "gcloud",
   "uri": "gcr.io/deeplearning-platform-release/tf2-gpu.2-3:m65"
  },
  "kernelspec": {
   "display_name": "Python 3",
   "language": "python",
   "name": "python3"
  },
  "language_info": {
   "codemirror_mode": {
    "name": "ipython",
    "version": 3
   },
   "file_extension": ".py",
   "mimetype": "text/x-python",
   "name": "python",
   "nbconvert_exporter": "python",
   "pygments_lexer": "ipython3",
   "version": "3.7.10"
  }
 },
 "nbformat": 4,
 "nbformat_minor": 4
}
